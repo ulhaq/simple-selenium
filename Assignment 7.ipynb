{
 "cells": [
  {
   "cell_type": "markdown",
   "metadata": {},
   "source": [
    "All functions are defined in index.py"
   ]
  },
  {
   "cell_type": "code",
   "execution_count": 1,
   "metadata": {},
   "outputs": [],
   "source": [
    "import index\n",
    "import bs4\n",
    "import time\n",
    "from selenium import webdriver\n",
    "from webdriver_manager.chrome import ChromeDriverManager"
   ]
  },
  {
   "cell_type": "markdown",
   "metadata": {},
   "source": [
    "# Exercise 4"
   ]
  },
  {
   "cell_type": "markdown",
   "metadata": {},
   "source": [
    "This will print a list of top 10 datasets with heighest vote-count and the name of the dataset with the smallest size."
   ]
  },
  {
   "cell_type": "code",
   "execution_count": 2,
   "metadata": {
    "scrolled": true
   },
   "outputs": [
    {
     "name": "stdout",
     "output_type": "stream",
     "text": [
      "Top 10 datasets with heighest vote-count:\n",
      "Credit Card Fraud Detection 66000.0 KB\n",
      "European Soccer Database 34400.0 KB\n",
      "TMDB 5000 Movie Dataset 9300.0 KB\n",
      "Google Play Store Apps 1900.0 KB\n",
      "Wine Reviews 50900.0 KB\n",
      "Global Terrorism Database 27900.0 KB\n",
      "Bitcoin Historical Data 117600.0 KB\n",
      "Heart Disease UCI 3.4 KB\n",
      "Black Friday 5400.0 KB\n",
      "Trending YouTube Video Statistics 199100.0 KB\n",
      "Dataset with the smallest size (in KB): ('Heart Disease UCI', 3.4)\n"
     ]
    }
   ],
   "source": [
    "browser = webdriver.Chrome(ChromeDriverManager().install())\n",
    "browser.get(\"https://www.kaggle.com/datasets\")\n",
    "\n",
    "browser.find_elements_by_class_name(\"Select-value\")[0].click()\n",
    "\n",
    "browser.find_element_by_xpath(\"//div[text()='Most Votes']\").click()\n",
    "\n",
    "time.sleep(5)\n",
    "\n",
    "items = browser.find_elements_by_class_name(\"smart-list__content\")[0]\n",
    "\n",
    "rs = items.get_attribute('innerHTML')\n",
    "\n",
    "browser.close()\n",
    "\n",
    "soup = bs4.BeautifulSoup(rs, 'html.parser')\n",
    "names = soup.findAll(\"div\", {\"class\": \"dataset-item__main-title\"})\n",
    "sizes = soup.findAll(\"div\", {\"class\": \"dataset-item__meta-size\"})\n",
    "\n",
    "dict = {}\n",
    "for i in range(10):\n",
    "    dict[names[i].getText()] = sizes[i].getText().replace('Total Compressed Size','').split()\n",
    "\n",
    "data = index.to_kb(dict).items()\n",
    "\n",
    "print(\"Top 10 datasets with heighest vote-count:\")\n",
    "for key, value in data:\n",
    "    print(key, str(value)+\" KB\")\n",
    "\n",
    "\n",
    "sorted_x = sorted(data, key=lambda x: x[1])\n",
    "\n",
    "print(\"Dataset with the smallest size (in KB):\", sorted_x[0])"
   ]
  }
 ],
 "metadata": {
  "kernelspec": {
   "display_name": "Python 3",
   "language": "python",
   "name": "python3"
  },
  "language_info": {
   "codemirror_mode": {
    "name": "ipython",
    "version": 3
   },
   "file_extension": ".py",
   "mimetype": "text/x-python",
   "name": "python",
   "nbconvert_exporter": "python",
   "pygments_lexer": "ipython3",
   "version": "3.6.7"
  }
 },
 "nbformat": 4,
 "nbformat_minor": 2
}
